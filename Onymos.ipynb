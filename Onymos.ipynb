{
 "cells": [
  {
   "cell_type": "code",
   "execution_count": 4,
   "metadata": {},
   "outputs": [
    {
     "name": "stdout",
     "output_type": "stream",
     "text": [
      "Order added: BUY 793 83 @ 139\n"
     ]
    },
    {
     "name": "stdout",
     "output_type": "stream",
     "text": [
      "Order added: BUY 104 51 @ 143\n",
      "Order added: BUY 280 22 @ 116\n",
      "Order added: BUY 62 52 @ 77\n",
      "Order added: SELL 495 50 @ 195\n",
      "Order added: BUY 25 64 @ 144\n",
      "Order added: SELL 158 57 @ 140\n",
      "Order added: BUY 271 50 @ 73\n",
      "Order added: SELL 241 44 @ 104\n",
      "Order added: BUY 957 46 @ 118\n",
      "Order added: SELL 724 40 @ 73\n",
      "Order added: SELL 581 25 @ 198\n",
      "Order added: SELL 878 89 @ 70\n",
      "Order added: SELL 899 39 @ 89\n",
      "Order added: SELL 381 61 @ 168\n",
      "Order added: SELL 333 49 @ 169\n",
      "Order added: BUY 766 63 @ 166\n",
      "Order added: BUY 927 39 @ 189\n",
      "Order added: SELL 459 71 @ 113\n",
      "Order added: SELL 50 79 @ 118\n"
     ]
    }
   ],
   "source": [
    "import threading\n",
    "import random\n",
    "import time\n",
    "from collections import deque\n",
    "\n",
    "class StockOrderBook:\n",
    "    def __init__(self):\n",
    "        self.order_books = {ticker: {\"buy\": deque(), \"sell\": deque()} for ticker in range(1, 1025)}\n",
    "        self.locks = {ticker: threading.Lock() for ticker in range(1, 1025)}\n",
    "\n",
    "    def addOrder(self, order_type, ticker, quantity, price):\n",
    "        order = {\"quantity\": quantity, \"price\": price}\n",
    "        with self.locks[ticker]:\n",
    "            self.order_books[ticker][order_type].append(order)\n",
    "        print(f\"Order added: {order_type.upper()} {ticker} {quantity} @ {price}\")\n",
    "    \n",
    "    def matchOrder(self, ticker):\n",
    "        with self.locks[ticker]:\n",
    "            buy_orders, sell_orders = self.order_books[ticker][\"buy\"], self.order_books[ticker][\"sell\"]\n",
    "            while buy_orders and sell_orders and buy_orders[0][\"price\"] >= sell_orders[0][\"price\"]:\n",
    "                buy, sell = buy_orders[0], sell_orders[0]\n",
    "                match_qty = min(buy[\"quantity\"], sell[\"quantity\"])\n",
    "                buy[\"quantity\"] -= match_qty\n",
    "                sell[\"quantity\"] -= match_qty\n",
    "\n",
    "                if buy[\"quantity\"] == 0:\n",
    "                    buy_orders.popleft()\n",
    "                if sell[\"quantity\"] == 0:\n",
    "                    sell_orders.popleft()\n",
    "                    \n",
    "                print(f\"Matched {match_qty} of {ticker}: Buy @ {buy['price']} & Sell @ {sell['price']}\")\n",
    "\n",
    "    # We could change the value of max_transactions to simulate more/less transactions\n",
    "    # and also the range of quantity and price\n",
    "    def simulate_transactions(self, max_transactions=20):\n",
    "        tickers = list(self.order_books.keys())\n",
    "        for _ in range(max_transactions):\n",
    "            ticker = random.choice(tickers)\n",
    "            order_type = random.choice([\"buy\", \"sell\"])\n",
    "            quantity = random.randint(1, 100)\n",
    "            price = random.randint(50, 200)\n",
    "\n",
    "            self.addOrder(order_type, ticker, quantity, price)\n",
    "            self.matchOrder(ticker)\n",
    "            time.sleep(random.uniform(0.1, 1))\n",
    "\n",
    "if __name__ == \"__main__\":\n",
    "    stock_order_book = StockOrderBook()\n",
    "    simulation_thread = threading.Thread(target=stock_order_book.simulate_transactions, daemon=True)\n",
    "    simulation_thread.start()"
   ]
  }
 ],
 "metadata": {
  "kernelspec": {
   "display_name": "base",
   "language": "python",
   "name": "python3"
  },
  "language_info": {
   "codemirror_mode": {
    "name": "ipython",
    "version": 3
   },
   "file_extension": ".py",
   "mimetype": "text/x-python",
   "name": "python",
   "nbconvert_exporter": "python",
   "pygments_lexer": "ipython3",
   "version": "3.9.13"
  },
  "orig_nbformat": 4
 },
 "nbformat": 4,
 "nbformat_minor": 2
}
